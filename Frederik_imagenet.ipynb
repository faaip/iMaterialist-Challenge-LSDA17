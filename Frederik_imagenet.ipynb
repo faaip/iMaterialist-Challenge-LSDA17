{
 "cells": [
  {
   "cell_type": "markdown",
   "metadata": {},
   "source": [
    "# Keras & Tensorflow multiclass classification\n",
    "https://www.codesofinterest.com/2017/08/bottleneck-features-multi-class-classification-keras.html"
   ]
  },
  {
   "cell_type": "code",
   "execution_count": 2,
   "metadata": {},
   "outputs": [
    {
     "name": "stderr",
     "output_type": "stream",
     "text": [
      "/home/lsda/.local/lib/python3.5/site-packages/h5py/__init__.py:36: FutureWarning: Conversion of the second argument of issubdtype from `float` to `np.floating` is deprecated. In future, it will be treated as `np.float64 == np.dtype(float).type`.\n",
      "  from ._conv import register_converters as _register_converters\n",
      "Using TensorFlow backend.\n"
     ]
    }
   ],
   "source": [
    "import numpy as np  \n",
    "from keras.preprocessing.image import ImageDataGenerator, img_to_array, load_img  \n",
    "from keras.models import Sequential  \n",
    "from keras.layers import Dropout, Flatten, Dense  \n",
    "from keras import applications  \n",
    "from keras.utils.np_utils import to_categorical  \n",
    "import matplotlib.pyplot as plt  \n",
    "import math  \n",
    "import cv2  "
   ]
  },
  {
   "cell_type": "code",
   "execution_count": 3,
   "metadata": {},
   "outputs": [],
   "source": [
    "img_width, img_height = 224, 224  # image dimensions\n",
    "\n",
    "top_model_weights_path = 'models/bottleneck_fc_model.h5'  # the top layer\n",
    "train_data_dir = '../data/train/'\n",
    "validation_data_dir = '../data/valid/'\n",
    "\n",
    "epochs = 50\n",
    "batch_size = 16"
   ]
  },
  {
   "cell_type": "code",
   "execution_count": 7,
   "metadata": {},
   "outputs": [],
   "source": [
    "model = applications.VGG16(include_top=False, weights='imagenet')"
   ]
  },
  {
   "cell_type": "code",
   "execution_count": null,
   "metadata": {},
   "outputs": [
    {
     "name": "stdout",
     "output_type": "stream",
     "text": [
      "Found 192171 images belonging to 128 classes.\n",
      "12011/12011 [==============================] - 4402s 367ms/step\n",
      "Found 6309 images belonging to 128 classes.\n",
      "395/395 [==============================] - 227s 574ms/step\n",
      "Found 192171 images belonging to 128 classes.\n"
     ]
    }
   ],
   "source": [
    "datagen = ImageDataGenerator(rescale=1. / 255)  \n",
    "\n",
    "generator = datagen.flow_from_directory(  \n",
    " train_data_dir,  \n",
    " target_size=(img_width, img_height),  \n",
    " batch_size=batch_size,  \n",
    " class_mode=None,  \n",
    " shuffle=False)  \n",
    "\n",
    "nb_train_samples = len(generator.filenames)  \n",
    "num_classes = len(generator.class_indices)  \n",
    "\n",
    "predict_size_train = int(math.ceil(nb_train_samples / batch_size))  \n",
    "\n",
    "bottleneck_features_train = model.predict_generator(  \n",
    " generator, predict_size_train, verbose=1)  \n",
    "\n",
    "#np.save('bottleneck_features_train.npy', bottleneck_features_train)  \n",
    "\n",
    "generator = datagen.flow_from_directory(  \n",
    " validation_data_dir,  \n",
    " target_size=(img_width, img_height),  \n",
    " batch_size=batch_size,  \n",
    " class_mode=None,  \n",
    " shuffle=False)  \n",
    "\n",
    "nb_validation_samples = len(generator.filenames)  \n",
    "\n",
    "predict_size_validation = int(math.ceil(nb_validation_samples / batch_size))  \n",
    "\n",
    "bottleneck_features_validation = model.predict_generator(  \n",
    " generator, predict_size_validation, verbose=1)  \n",
    "\n",
    "#np.save('bottleneck_features_validation.npy', bottleneck_features_validation)  \n",
    "\n",
    "# labels for training data\n",
    "datagen_top = ImageDataGenerator(rescale=1./255)  \n",
    "generator_top = datagen_top.flow_from_directory(  \n",
    "     train_data_dir,  \n",
    "     target_size=(img_width, img_height),  \n",
    "     batch_size=batch_size,  \n",
    "     class_mode='categorical',  \n",
    "     shuffle=False)  \n",
    "\n",
    "nb_train_samples = len(generator_top.filenames)  \n",
    "num_classes = len(generator_top.class_indices)  \n",
    "\n",
    "# load the bottleneck features saved earlier  \n",
    "train_data = np.load('bottleneck_features_train.npy')  \n",
    "\n",
    "# get the class lebels for the training data, in the original order  \n",
    "train_labels = generator_top.classes  \n",
    "\n",
    "# convert the training labels to categorical vectors  \n",
    "train_labels = to_categorical(train_labels, num_classes=num_classes)  \n",
    "\n",
    "# labels for validation features\n",
    "generator_top = datagen_top.flow_from_directory(  \n",
    "     validation_data_dir,  \n",
    "     target_size=(img_width, img_height),  \n",
    "     batch_size=batch_size,  \n",
    "     class_mode=None,  \n",
    "     shuffle=False)  \n",
    "\n",
    "nb_validation_samples = len(generator_top.filenames)  \n",
    "\n",
    "validation_data = np.load('bottleneck_features_validation.npy')  \n",
    "\n",
    "validation_labels = generator_top.classes  \n",
    "validation_labels = to_categorical(validation_labels, num_classes=num_classes) "
   ]
  },
  {
   "cell_type": "markdown",
   "metadata": {},
   "source": [
    "# Create and train top model"
   ]
  },
  {
   "cell_type": "code",
   "execution_count": 4,
   "metadata": {},
   "outputs": [
    {
     "name": "stdout",
     "output_type": "stream",
     "text": [
      "Found 192171 images belonging to 128 classes.\n",
      "Found 6309 images belonging to 128 classes.\n"
     ]
    }
   ],
   "source": [
    "# RELOADING\n",
    "# labels for training data\n",
    "datagen_top = ImageDataGenerator(rescale=1./255)  \n",
    "generator_top = datagen_top.flow_from_directory(  \n",
    "     train_data_dir,  \n",
    "     target_size=(img_width, img_height),  \n",
    "     batch_size=batch_size,  \n",
    "     class_mode='categorical',  \n",
    "     shuffle=False)  \n",
    "\n",
    "nb_train_samples = len(generator_top.filenames)  \n",
    "num_classes = len(generator_top.class_indices)  \n",
    "\n",
    "# load the bottleneck features saved earlier  \n",
    "train_data = np.load('bottleneck_features_train.npy')  \n",
    "\n",
    "# get the class lebels for the training data, in the original order  \n",
    "train_labels = generator_top.classes  \n",
    "\n",
    "# convert the training labels to categorical vectors  \n",
    "train_labels = to_categorical(train_labels, num_classes=num_classes) \n",
    "\n",
    "# labels for validation features\n",
    "generator_top = datagen_top.flow_from_directory(  \n",
    "     validation_data_dir,  \n",
    "     target_size=(img_width, img_height),  \n",
    "     batch_size=batch_size,  \n",
    "     class_mode=None,  \n",
    "     shuffle=False)  \n",
    "\n",
    "nb_validation_samples = len(generator_top.filenames)  \n",
    "\n",
    "validation_data = np.load('bottleneck_features_validation.npy')  \n",
    "validation_labels = generator_top.classes  \n",
    "validation_labels = to_categorical(validation_labels, num_classes=num_classes) "
   ]
  },
  {
   "cell_type": "code",
   "execution_count": 5,
   "metadata": {},
   "outputs": [
    {
     "name": "stdout",
     "output_type": "stream",
     "text": [
      "Train on 192171 samples, validate on 6309 samples\n",
      "Epoch 1/50\n",
      "192171/192171 [==============================] - 129s 672us/step - loss: 1.5084 - acc: 0.0376 - val_loss: 1.1921e-07 - val_acc: 0.0079\n",
      "Epoch 2/50\n",
      "192171/192171 [==============================] - 113s 588us/step - loss: 1.1921e-07 - acc: 0.0064 - val_loss: 1.1921e-07 - val_acc: 0.0079\n",
      "Epoch 3/50\n",
      "192171/192171 [==============================] - 113s 587us/step - loss: 1.1921e-07 - acc: 0.0064 - val_loss: 1.1921e-07 - val_acc: 0.0079\n",
      "Epoch 4/50\n",
      "192171/192171 [==============================] - 113s 587us/step - loss: 1.1921e-07 - acc: 0.0064 - val_loss: 1.1921e-07 - val_acc: 0.0079\n",
      "Epoch 5/50\n",
      "192171/192171 [==============================] - 113s 588us/step - loss: 1.1921e-07 - acc: 0.0064 - val_loss: 1.1921e-07 - val_acc: 0.0079\n",
      "Epoch 6/50\n",
      "192171/192171 [==============================] - 113s 588us/step - loss: 1.1921e-07 - acc: 0.0064 - val_loss: 1.1921e-07 - val_acc: 0.0079\n",
      "Epoch 7/50\n",
      "192171/192171 [==============================] - 113s 589us/step - loss: 1.1921e-07 - acc: 0.0064 - val_loss: 1.1921e-07 - val_acc: 0.0079\n",
      "Epoch 8/50\n",
      "192171/192171 [==============================] - 113s 587us/step - loss: 1.1921e-07 - acc: 0.0064 - val_loss: 1.1921e-07 - val_acc: 0.0079\n",
      "Epoch 9/50\n",
      "192171/192171 [==============================] - 113s 588us/step - loss: 1.1921e-07 - acc: 0.0064 - val_loss: 1.1921e-07 - val_acc: 0.0079\n",
      "Epoch 10/50\n",
      "192171/192171 [==============================] - 113s 586us/step - loss: 1.1921e-07 - acc: 0.0064 - val_loss: 1.1921e-07 - val_acc: 0.0079\n",
      "Epoch 11/50\n",
      "192171/192171 [==============================] - 113s 590us/step - loss: 1.1921e-07 - acc: 0.0064 - val_loss: 1.1921e-07 - val_acc: 0.0079\n",
      "Epoch 12/50\n",
      "192171/192171 [==============================] - 113s 588us/step - loss: 1.1921e-07 - acc: 0.0064 - val_loss: 1.1921e-07 - val_acc: 0.0079\n",
      "Epoch 13/50\n",
      "192171/192171 [==============================] - 113s 586us/step - loss: 1.1921e-07 - acc: 0.0064 - val_loss: 1.1921e-07 - val_acc: 0.0079\n",
      "Epoch 14/50\n",
      "192171/192171 [==============================] - 113s 586us/step - loss: 1.1921e-07 - acc: 0.0064 - val_loss: 1.1921e-07 - val_acc: 0.0079\n",
      "Epoch 15/50\n",
      "192171/192171 [==============================] - 112s 585us/step - loss: 1.1921e-07 - acc: 0.0064 - val_loss: 1.1921e-07 - val_acc: 0.0079\n",
      "Epoch 16/50\n",
      "192171/192171 [==============================] - 113s 587us/step - loss: 1.1921e-07 - acc: 0.0064 - val_loss: 1.1921e-07 - val_acc: 0.0079\n",
      "Epoch 17/50\n",
      "192171/192171 [==============================] - 113s 587us/step - loss: 1.1921e-07 - acc: 0.0064 - val_loss: 1.1921e-07 - val_acc: 0.0079\n",
      "Epoch 18/50\n",
      "192171/192171 [==============================] - 113s 589us/step - loss: 1.1921e-07 - acc: 0.0064 - val_loss: 1.1921e-07 - val_acc: 0.0079\n",
      "Epoch 19/50\n",
      "192171/192171 [==============================] - 113s 586us/step - loss: 1.1921e-07 - acc: 0.0064 - val_loss: 1.1921e-07 - val_acc: 0.0079\n",
      "Epoch 20/50\n",
      "192171/192171 [==============================] - 113s 587us/step - loss: 1.1921e-07 - acc: 0.0064 - val_loss: 1.1921e-07 - val_acc: 0.0079\n",
      "Epoch 21/50\n",
      "192171/192171 [==============================] - 113s 590us/step - loss: 1.1921e-07 - acc: 0.0064 - val_loss: 1.1921e-07 - val_acc: 0.0079\n",
      "Epoch 22/50\n",
      "192171/192171 [==============================] - 112s 585us/step - loss: 1.1921e-07 - acc: 0.0064 - val_loss: 1.1921e-07 - val_acc: 0.0079\n",
      "Epoch 23/50\n",
      "192171/192171 [==============================] - 113s 586us/step - loss: 1.1921e-07 - acc: 0.0064 - val_loss: 1.1921e-07 - val_acc: 0.0079\n",
      "Epoch 24/50\n",
      "192171/192171 [==============================] - 113s 588us/step - loss: 1.1921e-07 - acc: 0.0064 - val_loss: 1.1921e-07 - val_acc: 0.0079\n",
      "Epoch 25/50\n",
      "192171/192171 [==============================] - 113s 587us/step - loss: 1.1921e-07 - acc: 0.0064 - val_loss: 1.1921e-07 - val_acc: 0.0079\n",
      "Epoch 26/50\n",
      "192171/192171 [==============================] - 113s 587us/step - loss: 1.1921e-07 - acc: 0.0064 - val_loss: 1.1921e-07 - val_acc: 0.0079\n",
      "Epoch 27/50\n",
      "192171/192171 [==============================] - 113s 588us/step - loss: 1.1921e-07 - acc: 0.0064 - val_loss: 1.1921e-07 - val_acc: 0.0079\n",
      "Epoch 28/50\n",
      "192171/192171 [==============================] - 113s 586us/step - loss: 1.1921e-07 - acc: 0.0064 - val_loss: 1.1921e-07 - val_acc: 0.0079\n",
      "Epoch 29/50\n",
      "192171/192171 [==============================] - 113s 586us/step - loss: 1.1921e-07 - acc: 0.0064 - val_loss: 1.1921e-07 - val_acc: 0.0079\n",
      "Epoch 30/50\n",
      "192171/192171 [==============================] - 113s 587us/step - loss: 1.1921e-07 - acc: 0.0064 - val_loss: 1.1921e-07 - val_acc: 0.0079\n",
      "Epoch 31/50\n",
      "192171/192171 [==============================] - 112s 584us/step - loss: 1.1921e-07 - acc: 0.0064 - val_loss: 1.1921e-07 - val_acc: 0.0079\n",
      "Epoch 32/50\n",
      "192171/192171 [==============================] - 112s 585us/step - loss: 1.1921e-07 - acc: 0.0064 - val_loss: 1.1921e-07 - val_acc: 0.0079\n",
      "Epoch 33/50\n",
      "192171/192171 [==============================] - 112s 585us/step - loss: 1.1921e-07 - acc: 0.0064 - val_loss: 1.1921e-07 - val_acc: 0.0079\n",
      "Epoch 34/50\n",
      "192171/192171 [==============================] - 113s 587us/step - loss: 1.1921e-07 - acc: 0.0064 - val_loss: 1.1921e-07 - val_acc: 0.0079\n",
      "Epoch 35/50\n",
      "192171/192171 [==============================] - 113s 587us/step - loss: 1.1921e-07 - acc: 0.0064 - val_loss: 1.1921e-07 - val_acc: 0.0079\n",
      "Epoch 36/50\n",
      "192171/192171 [==============================] - 113s 585us/step - loss: 1.1921e-07 - acc: 0.0064 - val_loss: 1.1921e-07 - val_acc: 0.0079\n",
      "Epoch 37/50\n",
      "192171/192171 [==============================] - 112s 584us/step - loss: 1.1921e-07 - acc: 0.0064 - val_loss: 1.1921e-07 - val_acc: 0.0079\n",
      "Epoch 38/50\n",
      "192171/192171 [==============================] - 112s 585us/step - loss: 1.1921e-07 - acc: 0.0064 - val_loss: 1.1921e-07 - val_acc: 0.0079\n",
      "Epoch 39/50\n",
      "192171/192171 [==============================] - 112s 584us/step - loss: 1.1921e-07 - acc: 0.0064 - val_loss: 1.1921e-07 - val_acc: 0.0079\n",
      "Epoch 40/50\n",
      "192171/192171 [==============================] - 113s 587us/step - loss: 1.1921e-07 - acc: 0.0064 - val_loss: 1.1921e-07 - val_acc: 0.0079\n",
      "Epoch 41/50\n",
      "192171/192171 [==============================] - 113s 586us/step - loss: 1.1921e-07 - acc: 0.0064 - val_loss: 1.1921e-07 - val_acc: 0.0079\n",
      "Epoch 42/50\n",
      "192171/192171 [==============================] - 113s 585us/step - loss: 1.1921e-07 - acc: 0.0064 - val_loss: 1.1921e-07 - val_acc: 0.0079\n",
      "Epoch 43/50\n",
      "192171/192171 [==============================] - 112s 585us/step - loss: 1.1921e-07 - acc: 0.0064 - val_loss: 1.1921e-07 - val_acc: 0.0079\n",
      "Epoch 44/50\n",
      "192171/192171 [==============================] - 113s 586us/step - loss: 1.1921e-07 - acc: 0.0064 - val_loss: 1.1921e-07 - val_acc: 0.0079\n",
      "Epoch 45/50\n",
      "192171/192171 [==============================] - 113s 586us/step - loss: 1.1921e-07 - acc: 0.0064 - val_loss: 1.1921e-07 - val_acc: 0.0079\n",
      "Epoch 46/50\n",
      "192171/192171 [==============================] - 113s 588us/step - loss: 1.1921e-07 - acc: 0.0064 - val_loss: 1.1921e-07 - val_acc: 0.0079\n",
      "Epoch 47/50\n",
      "192171/192171 [==============================] - 113s 587us/step - loss: 1.1921e-07 - acc: 0.0064 - val_loss: 1.1921e-07 - val_acc: 0.0079\n",
      "Epoch 48/50\n",
      "192171/192171 [==============================] - 112s 585us/step - loss: 1.1921e-07 - acc: 0.0064 - val_loss: 1.1921e-07 - val_acc: 0.0079\n",
      "Epoch 49/50\n",
      "192171/192171 [==============================] - 113s 587us/step - loss: 1.1921e-07 - acc: 0.0064 - val_loss: 1.1921e-07 - val_acc: 0.0079\n",
      "Epoch 50/50\n",
      "192171/192171 [==============================] - 113s 586us/step - loss: 1.1921e-07 - acc: 0.0064 - val_loss: 1.1921e-07 - val_acc: 0.0079\n",
      "6309/6309 [==============================] - 1s 153us/step\n",
      "[INFO] accuracy: 0.79%\n",
      "[INFO] Loss: 1.1920930376163597e-07\n"
     ]
    }
   ],
   "source": [
    "model = Sequential()  \n",
    "model.add(Flatten(input_shape=train_data.shape[1:]))  \n",
    "model.add(Dense(256, activation='relu'))  \n",
    "model.add(Dropout(0.5))  \n",
    "model.add(Dense(num_classes, activation='sigmoid'))  \n",
    "\n",
    "model.compile(optimizer='rmsprop',  \n",
    "          loss='categorical_crossentropy', metrics=['accuracy'])  \n",
    "\n",
    "history = model.fit(train_data, train_labels,  \n",
    "      epochs=epochs,  \n",
    "      batch_size=batch_size,  \n",
    "      validation_data=(validation_data, validation_labels))  \n",
    "\n",
    "model.save_weights(top_model_weights_path)  \n",
    "\n",
    "(eval_loss, eval_accuracy) = model.evaluate(  \n",
    " validation_data, validation_labels, batch_size=batch_size, verbose=1)\n",
    "\n",
    "print(\"[INFO] accuracy: {:.2f}%\".format(eval_accuracy * 100))  \n",
    "print(\"[INFO] Loss: {}\".format(eval_loss)) "
   ]
  },
  {
   "cell_type": "markdown",
   "metadata": {},
   "source": [
    "# Plot stuff"
   ]
  },
  {
   "cell_type": "code",
   "execution_count": 6,
   "metadata": {},
   "outputs": [
    {
     "data": {
      "image/png": "[encoded data removed]",
      "text/plain": [
       "<Figure size 432x288 with 2 Axes>"
      ]
     },
     "metadata": {},
     "output_type": "display_data"
    }
   ],
   "source": [
    "plt.figure(1)  \n",
    "\n",
    "# summarize history for accuracy  \n",
    "plt.subplot(211)  \n",
    "plt.plot(history.history['acc'])  \n",
    "plt.plot(history.history['val_acc'])  \n",
    "plt.title('model accuracy')  \n",
    "plt.ylabel('accuracy')  \n",
    "plt.xlabel('epoch')  \n",
    "plt.legend(['train', 'test'], loc='upper left')  \n",
    "\n",
    "# summarize history for loss  \n",
    "plt.subplot(212)  \n",
    "plt.plot(history.history['loss'])  \n",
    "plt.plot(history.history['val_loss'])  \n",
    "plt.title('model loss')  \n",
    "plt.ylabel('loss')  \n",
    "plt.xlabel('epoch')  \n",
    "plt.legend(['train', 'test'], loc='upper left')  \n",
    "plt.show() "
   ]
  },
  {
   "cell_type": "markdown",
   "metadata": {},
   "source": [
    "# Prediction"
   ]
  },
  {
   "cell_type": "code",
   "execution_count": 7,
   "metadata": {},
   "outputs": [],
   "source": [
    "vgg16_model = applications.VGG16(include_top=False, weights='imagenet')\n",
    "\n",
    "def get_prediction(image_path):\n",
    "    #print(\"[INFO] loading and preprocessing image...\")  \n",
    "    image = load_img(image_path, target_size=(224, 224))  \n",
    "    image = img_to_array(image)  \n",
    "\n",
    "    # important! otherwise the predictions will be '0'  \n",
    "    image = image / 255  \n",
    "\n",
    "    image = np.expand_dims(image, axis=0)  \n",
    "    # run image through pipeline\n",
    "    # build the VGG16 network  \n",
    "    #model = applications.VGG16(include_top=False, weights='imagenet')  \n",
    "\n",
    "    # get the bottleneck prediction from the pre-trained VGG16 model  \n",
    "    #bottleneck_prediction = model.predict(image)  \n",
    "    bottleneck_prediction = vgg16_model.predict(image)\n",
    "\n",
    "    # build top model  \n",
    "    model = Sequential()  \n",
    "    model.add(Flatten(input_shape=bottleneck_prediction.shape[1:]))  \n",
    "    model.add(Dense(256, activation='relu'))  \n",
    "    model.add(Dropout(0.5))  \n",
    "    model.add(Dense(num_classes, activation='sigmoid'))  \n",
    "\n",
    "    model.load_weights(top_model_weights_path)  \n",
    "\n",
    "    # use the bottleneck prediction on the top model to get the final classification  \n",
    "    class_predicted = model.predict_classes(bottleneck_prediction) \n",
    "\n",
    "    inID = class_predicted[0]  \n",
    "\n",
    "    class_dictionary = generator_top.class_indices  \n",
    "\n",
    "    inv_map = {v: k for k, v in class_dictionary.items()}  \n",
    "\n",
    "    label = inv_map[inID]  \n",
    "    return label"
   ]
  },
  {
   "cell_type": "code",
   "execution_count": 8,
   "metadata": {},
   "outputs": [
    {
     "data": {
      "application/vnd.jupyter.widget-view+json": {
       "model_id": "f8f297658bbd479e9e1508a1549e6e06",
       "version_major": 2,
       "version_minor": 0
      },
      "text/plain": [
       "HBox(children=(IntProgress(value=0, max=12800), HTML(value='')))"
      ]
     },
     "metadata": {},
     "output_type": "display_data"
    },
    {
     "ename": "FileNotFoundError",
     "evalue": "[Errno 2] No such file or directory: '../data/test/320.jpg'",
     "output_type": "error",
     "traceback": [
      "\u001b[0;31m---------------------------------------------------------------------------\u001b[0m",
      "\u001b[0;31mFileNotFoundError\u001b[0m                         Traceback (most recent call last)",
      "\u001b[0;32m<ipython-input-8-f208c8d2d7f2>\u001b[0m in \u001b[0;36m<module>\u001b[0;34m()\u001b[0m\n\u001b[1;32m     11\u001b[0m \u001b[0;34m\u001b[0m\u001b[0m\n\u001b[1;32m     12\u001b[0m \u001b[0;32mfor\u001b[0m \u001b[0mi\u001b[0m \u001b[0;32min\u001b[0m \u001b[0mtqdm_notebook\u001b[0m\u001b[0;34m(\u001b[0m\u001b[0mjson_data\u001b[0m\u001b[0;34m[\u001b[0m\u001b[0;34m'images'\u001b[0m\u001b[0;34m]\u001b[0m\u001b[0;34m)\u001b[0m\u001b[0;34m:\u001b[0m\u001b[0;34m\u001b[0m\u001b[0m\n\u001b[0;32m---> 13\u001b[0;31m     \u001b[0mpred\u001b[0m \u001b[0;34m=\u001b[0m \u001b[0mget_prediction\u001b[0m\u001b[0;34m(\u001b[0m\u001b[0mtest_dir\u001b[0m \u001b[0;34m+\u001b[0m \u001b[0mstr\u001b[0m\u001b[0;34m(\u001b[0m\u001b[0mi\u001b[0m\u001b[0;34m[\u001b[0m\u001b[0;34m'image_id'\u001b[0m\u001b[0;34m]\u001b[0m\u001b[0;34m)\u001b[0m \u001b[0;34m+\u001b[0m \u001b[0;34m'.jpg'\u001b[0m\u001b[0;34m)\u001b[0m\u001b[0;34m\u001b[0m\u001b[0m\n\u001b[0m\u001b[1;32m     14\u001b[0m     \u001b[0mids\u001b[0m\u001b[0;34m.\u001b[0m\u001b[0mappend\u001b[0m\u001b[0;34m(\u001b[0m\u001b[0mi\u001b[0m\u001b[0;34m[\u001b[0m\u001b[0;34m'image_id'\u001b[0m\u001b[0;34m]\u001b[0m\u001b[0;34m)\u001b[0m\u001b[0;34m\u001b[0m\u001b[0m\n\u001b[1;32m     15\u001b[0m     \u001b[0mpredicted_labels\u001b[0m\u001b[0;34m.\u001b[0m\u001b[0mappend\u001b[0m\u001b[0;34m(\u001b[0m\u001b[0mpred\u001b[0m\u001b[0;34m)\u001b[0m\u001b[0;34m\u001b[0m\u001b[0m\n",
      "\u001b[0;32m<ipython-input-7-064c2d4186f7>\u001b[0m in \u001b[0;36mget_prediction\u001b[0;34m(image_path)\u001b[0m\n\u001b[1;32m      3\u001b[0m \u001b[0;32mdef\u001b[0m \u001b[0mget_prediction\u001b[0m\u001b[0;34m(\u001b[0m\u001b[0mimage_path\u001b[0m\u001b[0;34m)\u001b[0m\u001b[0;34m:\u001b[0m\u001b[0;34m\u001b[0m\u001b[0m\n\u001b[1;32m      4\u001b[0m     \u001b[0;31m#print(\"[INFO] loading and preprocessing image...\")\u001b[0m\u001b[0;34m\u001b[0m\u001b[0;34m\u001b[0m\u001b[0m\n\u001b[0;32m----> 5\u001b[0;31m     \u001b[0mimage\u001b[0m \u001b[0;34m=\u001b[0m \u001b[0mload_img\u001b[0m\u001b[0;34m(\u001b[0m\u001b[0mimage_path\u001b[0m\u001b[0;34m,\u001b[0m \u001b[0mtarget_size\u001b[0m\u001b[0;34m=\u001b[0m\u001b[0;34m(\u001b[0m\u001b[0;36m224\u001b[0m\u001b[0;34m,\u001b[0m \u001b[0;36m224\u001b[0m\u001b[0;34m)\u001b[0m\u001b[0;34m)\u001b[0m\u001b[0;34m\u001b[0m\u001b[0m\n\u001b[0m\u001b[1;32m      6\u001b[0m     \u001b[0mimage\u001b[0m \u001b[0;34m=\u001b[0m \u001b[0mimg_to_array\u001b[0m\u001b[0;34m(\u001b[0m\u001b[0mimage\u001b[0m\u001b[0;34m)\u001b[0m\u001b[0;34m\u001b[0m\u001b[0m\n\u001b[1;32m      7\u001b[0m \u001b[0;34m\u001b[0m\u001b[0m\n",
      "\u001b[0;32m~/.local/lib/python3.5/site-packages/keras/preprocessing/image.py\u001b[0m in \u001b[0;36mload_img\u001b[0;34m(path, grayscale, target_size, interpolation)\u001b[0m\n\u001b[1;32m    385\u001b[0m         raise ImportError('Could not import PIL.Image. '\n\u001b[1;32m    386\u001b[0m                           'The use of `array_to_img` requires PIL.')\n\u001b[0;32m--> 387\u001b[0;31m     \u001b[0mimg\u001b[0m \u001b[0;34m=\u001b[0m \u001b[0mpil_image\u001b[0m\u001b[0;34m.\u001b[0m\u001b[0mopen\u001b[0m\u001b[0;34m(\u001b[0m\u001b[0mpath\u001b[0m\u001b[0;34m)\u001b[0m\u001b[0;34m\u001b[0m\u001b[0m\n\u001b[0m\u001b[1;32m    388\u001b[0m     \u001b[0;32mif\u001b[0m \u001b[0mgrayscale\u001b[0m\u001b[0;34m:\u001b[0m\u001b[0;34m\u001b[0m\u001b[0m\n\u001b[1;32m    389\u001b[0m         \u001b[0;32mif\u001b[0m \u001b[0mimg\u001b[0m\u001b[0;34m.\u001b[0m\u001b[0mmode\u001b[0m \u001b[0;34m!=\u001b[0m \u001b[0;34m'L'\u001b[0m\u001b[0;34m:\u001b[0m\u001b[0;34m\u001b[0m\u001b[0m\n",
      "\u001b[0;32m~/.local/lib/python3.5/site-packages/PIL/Image.py\u001b[0m in \u001b[0;36mopen\u001b[0;34m(fp, mode)\u001b[0m\n\u001b[1;32m   2546\u001b[0m \u001b[0;34m\u001b[0m\u001b[0m\n\u001b[1;32m   2547\u001b[0m     \u001b[0;32mif\u001b[0m \u001b[0mfilename\u001b[0m\u001b[0;34m:\u001b[0m\u001b[0;34m\u001b[0m\u001b[0m\n\u001b[0;32m-> 2548\u001b[0;31m         \u001b[0mfp\u001b[0m \u001b[0;34m=\u001b[0m \u001b[0mbuiltins\u001b[0m\u001b[0;34m.\u001b[0m\u001b[0mopen\u001b[0m\u001b[0;34m(\u001b[0m\u001b[0mfilename\u001b[0m\u001b[0;34m,\u001b[0m \u001b[0;34m\"rb\"\u001b[0m\u001b[0;34m)\u001b[0m\u001b[0;34m\u001b[0m\u001b[0m\n\u001b[0m\u001b[1;32m   2549\u001b[0m         \u001b[0mexclusive_fp\u001b[0m \u001b[0;34m=\u001b[0m \u001b[0;32mTrue\u001b[0m\u001b[0;34m\u001b[0m\u001b[0m\n\u001b[1;32m   2550\u001b[0m \u001b[0;34m\u001b[0m\u001b[0m\n",
      "\u001b[0;31mFileNotFoundError\u001b[0m: [Errno 2] No such file or directory: '../data/test/320.jpg'"
     ]
    }
   ],
   "source": [
    "# Kaggle submission\n",
    "import json\n",
    "from tqdm import tnrange, tqdm_notebook\n",
    "from tqdm import tqdm\n",
    "\n",
    "json_data = json.load(open('kaggle/test.json'))\n",
    "test_dir = '../data/test/'\n",
    "\n",
    "ids = []\n",
    "predicted_labels = []\n",
    "\n",
    "for i in tqdm_notebook(json_data['images']):\n",
    "    pred = get_prediction(test_dir + str(i['image_id']) + '.jpg')\n",
    "    ids.append(i['image_id'])\n",
    "    predicted_labels.append(pred)"
   ]
  },
  {
   "cell_type": "code",
   "execution_count": null,
   "metadata": {},
   "outputs": [],
   "source": [
    "import pandas as pd\n",
    "import datetime\n",
    "\n",
    "my_submission = pd.DataFrame({'id': ids, 'predicted': predicted_labels})\n",
    "file_name = 'submission_' + str(datetime.datetime.now()) +'.csv'\n",
    "my_submission.to_csv(file_name, index=False)"
   ]
  },
  {
   "cell_type": "code",
   "execution_count": null,
   "metadata": {},
   "outputs": [],
   "source": []
  },
  {
   "cell_type": "code",
   "execution_count": null,
   "metadata": {},
   "outputs": [],
   "source": []
  }
 ],
 "metadata": {
  "kernelspec": {
   "display_name": "Python 3",
   "language": "python",
   "name": "python3"
  },
  "language_info": {
   "codemirror_mode": {
    "name": "ipython",
    "version": 3
   },
   "file_extension": ".py",
   "mimetype": "text/x-python",
   "name": "python",
   "nbconvert_exporter": "python",
   "pygments_lexer": "ipython3",
   "version": "3.5.2"
  },
  "varInspector": {
   "cols": {
    "lenName": 16,
    "lenType": 16,
    "lenVar": 40
   },
   "kernels_config": {
    "python": {
     "delete_cmd_postfix": "",
     "delete_cmd_prefix": "del ",
     "library": "var_list.py",
     "varRefreshCmd": "print(var_dic_list())"
    },
    "r": {
     "delete_cmd_postfix": ") ",
     "delete_cmd_prefix": "rm(",
     "library": "var_list.r",
     "varRefreshCmd": "cat(var_dic_list()) "
    }
   },
   "types_to_exclude": [
    "module",
    "function",
    "builtin_function_or_method",
    "instance",
    "_Feature"
   ],
   "window_display": false
  }
 },
 "nbformat": 4,
 "nbformat_minor": 2
}
