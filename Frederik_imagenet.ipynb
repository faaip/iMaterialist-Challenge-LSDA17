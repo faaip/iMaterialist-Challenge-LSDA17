{
 "cells": [
  {
   "cell_type": "markdown",
   "metadata": {},
   "source": [
    "# Keras & Tensorflow multiclass classification\n",
    "https://www.codesofinterest.com/2017/08/bottleneck-features-multi-class-classification-keras.html"
   ]
  },
  {
   "cell_type": "code",
   "execution_count": 1,
   "metadata": {},
   "outputs": [
    {
     "name": "stderr",
     "output_type": "stream",
     "text": [
      "/usr/local/lib/python3.6/site-packages/h5py/__init__.py:36: FutureWarning: Conversion of the second argument of issubdtype from `float` to `np.floating` is deprecated. In future, it will be treated as `np.float64 == np.dtype(float).type`.\n",
      "  from ._conv import register_converters as _register_converters\n",
      "Using TensorFlow backend.\n"
     ]
    }
   ],
   "source": [
    "import numpy as np  \n",
    "from keras.preprocessing.image import ImageDataGenerator, img_to_array, load_img  \n",
    "from keras.models import Sequential  \n",
    "from keras.layers import Dropout, Flatten, Dense  \n",
    "from keras import applications  \n",
    "from keras.utils.np_utils import to_categorical  \n",
    "import matplotlib.pyplot as plt  \n",
    "import math  \n",
    "import cv2  "
   ]
  },
  {
   "cell_type": "code",
   "execution_count": 2,
   "metadata": {
    "collapsed": true
   },
   "outputs": [],
   "source": [
    "img_width, img_height = 224, 224  # image dimensions\n",
    "\n",
    "top_model_weights_path = 'models/bottleneck_fc_model.h5'  # the top layer\n",
    "train_data_dir = 'toy_data/train/'\n",
    "validation_data_dir = 'toy_data/valid/'\n",
    "\n",
    "epochs = 50\n",
    "batch_size = 16"
   ]
  },
  {
   "cell_type": "code",
   "execution_count": 3,
   "metadata": {
    "collapsed": true
   },
   "outputs": [],
   "source": [
    "model = applications.VGG16(include_top=False, weights='imagenet')"
   ]
  },
  {
   "cell_type": "code",
   "execution_count": 4,
   "metadata": {},
   "outputs": [
    {
     "name": "stdout",
     "output_type": "stream",
     "text": [
      "Found 28 images belonging to 3 classes.\n",
      "2/2 [==============================] - 7s 4s/step\n",
      "Found 35 images belonging to 3 classes.\n",
      "3/3 [==============================] - 9s 3s/step\n",
      "Found 28 images belonging to 3 classes.\n",
      "Found 35 images belonging to 3 classes.\n"
     ]
    }
   ],
   "source": [
    "datagen = ImageDataGenerator(rescale=1. / 255)  \n",
    "\n",
    "generator = datagen.flow_from_directory(  \n",
    " train_data_dir,  \n",
    " target_size=(img_width, img_height),  \n",
    " batch_size=batch_size,  \n",
    " class_mode=None,  \n",
    " shuffle=False)  \n",
    "\n",
    "nb_train_samples = len(generator.filenames)  \n",
    "num_classes = len(generator.class_indices)  \n",
    "\n",
    "predict_size_train = int(math.ceil(nb_train_samples / batch_size))  \n",
    "\n",
    "bottleneck_features_train = model.predict_generator(  \n",
    " generator, predict_size_train, verbose=1)  \n",
    "\n",
    "np.save('bottleneck_features_train.npy', bottleneck_features_train)  \n",
    "\n",
    "generator = datagen.flow_from_directory(  \n",
    " validation_data_dir,  \n",
    " target_size=(img_width, img_height),  \n",
    " batch_size=batch_size,  \n",
    " class_mode=None,  \n",
    " shuffle=False)  \n",
    "\n",
    "nb_validation_samples = len(generator.filenames)  \n",
    "\n",
    "predict_size_validation = int(math.ceil(nb_validation_samples / batch_size))  \n",
    "\n",
    "bottleneck_features_validation = model.predict_generator(  \n",
    " generator, predict_size_validation, verbose=1)  \n",
    "\n",
    "np.save('bottleneck_features_validation.npy', bottleneck_features_validation)  \n",
    "\n",
    "# labels for training data\n",
    "datagen_top = ImageDataGenerator(rescale=1./255)  \n",
    "generator_top = datagen_top.flow_from_directory(  \n",
    "     train_data_dir,  \n",
    "     target_size=(img_width, img_height),  \n",
    "     batch_size=batch_size,  \n",
    "     class_mode='categorical',  \n",
    "     shuffle=False)  \n",
    "\n",
    "nb_train_samples = len(generator_top.filenames)  \n",
    "num_classes = len(generator_top.class_indices)  \n",
    "\n",
    "# load the bottleneck features saved earlier  \n",
    "train_data = np.load('bottleneck_features_train.npy')  \n",
    "\n",
    "# get the class lebels for the training data, in the original order  \n",
    "train_labels = generator_top.classes  \n",
    "\n",
    "# convert the training labels to categorical vectors  \n",
    "train_labels = to_categorical(train_labels, num_classes=num_classes)  \n",
    "\n",
    "# labels for validation features\n",
    "generator_top = datagen_top.flow_from_directory(  \n",
    "     validation_data_dir,  \n",
    "     target_size=(img_width, img_height),  \n",
    "     batch_size=batch_size,  \n",
    "     class_mode=None,  \n",
    "     shuffle=False)  \n",
    "\n",
    "nb_validation_samples = len(generator_top.filenames)  \n",
    "\n",
    "validation_data = np.load('bottleneck_features_validation.npy')  \n",
    "\n",
    "validation_labels = generator_top.classes  \n",
    "validation_labels = to_categorical(validation_labels, num_classes=num_classes) "
   ]
  },
  {
   "cell_type": "markdown",
   "metadata": {},
   "source": [
    "# Create and train top model"
   ]
  },
  {
   "cell_type": "code",
   "execution_count": 5,
   "metadata": {},
   "outputs": [
    {
     "name": "stdout",
     "output_type": "stream",
     "text": [
      "Train on 28 samples, validate on 35 samples\n",
      "Epoch 1/50\n",
      "28/28 [==============================] - 0s 15ms/step - loss: 1.3989 - acc: 0.5357 - val_loss: 1.0977 - val_acc: 0.7429\n",
      "Epoch 2/50\n",
      "28/28 [==============================] - 0s 6ms/step - loss: 0.9565 - acc: 0.7143 - val_loss: 0.7511 - val_acc: 0.4286\n",
      "Epoch 3/50\n",
      "28/28 [==============================] - 0s 6ms/step - loss: 1.0746 - acc: 0.6071 - val_loss: 2.2516 - val_acc: 0.3429\n",
      "Epoch 4/50\n",
      "28/28 [==============================] - 0s 6ms/step - loss: 1.5056 - acc: 0.4286 - val_loss: 0.9824 - val_acc: 0.5429\n",
      "Epoch 5/50\n",
      "28/28 [==============================] - 0s 6ms/step - loss: 1.2247 - acc: 0.5000 - val_loss: 1.0736 - val_acc: 0.8000\n",
      "Epoch 6/50\n",
      "28/28 [==============================] - 0s 6ms/step - loss: 0.7815 - acc: 0.7143 - val_loss: 0.6098 - val_acc: 0.5714\n",
      "Epoch 7/50\n",
      "28/28 [==============================] - 0s 6ms/step - loss: 0.4444 - acc: 0.9286 - val_loss: 0.7798 - val_acc: 0.4857\n",
      "Epoch 8/50\n",
      "28/28 [==============================] - 0s 6ms/step - loss: 0.4706 - acc: 0.8214 - val_loss: 1.1546 - val_acc: 0.4286\n",
      "Epoch 9/50\n",
      "28/28 [==============================] - 0s 6ms/step - loss: 0.6721 - acc: 0.8214 - val_loss: 1.2532 - val_acc: 0.5143\n",
      "Epoch 10/50\n",
      "28/28 [==============================] - 0s 6ms/step - loss: 0.3940 - acc: 0.8214 - val_loss: 2.1785 - val_acc: 0.4571\n",
      "Epoch 11/50\n",
      "28/28 [==============================] - 0s 6ms/step - loss: 0.4102 - acc: 0.7500 - val_loss: 0.9727 - val_acc: 0.5429\n",
      "Epoch 12/50\n",
      "28/28 [==============================] - 0s 6ms/step - loss: 0.5425 - acc: 0.8929 - val_loss: 0.7196 - val_acc: 0.7143\n",
      "Epoch 13/50\n",
      "28/28 [==============================] - 0s 6ms/step - loss: 0.4538 - acc: 1.0000 - val_loss: 1.4708 - val_acc: 0.7143\n",
      "Epoch 14/50\n",
      "28/28 [==============================] - 0s 6ms/step - loss: 0.3456 - acc: 0.8929 - val_loss: 2.0813 - val_acc: 0.6286\n",
      "Epoch 15/50\n",
      "28/28 [==============================] - 0s 6ms/step - loss: 0.3357 - acc: 0.9286 - val_loss: 2.4881 - val_acc: 0.5143\n",
      "Epoch 16/50\n",
      "28/28 [==============================] - 0s 6ms/step - loss: 0.3257 - acc: 0.9286 - val_loss: 2.3151 - val_acc: 0.5143\n",
      "Epoch 17/50\n",
      "28/28 [==============================] - 0s 6ms/step - loss: 0.3218 - acc: 0.8929 - val_loss: 2.3195 - val_acc: 0.5143\n",
      "Epoch 18/50\n",
      "28/28 [==============================] - 0s 6ms/step - loss: 0.3157 - acc: 0.9286 - val_loss: 2.6179 - val_acc: 0.5429\n",
      "Epoch 19/50\n",
      "28/28 [==============================] - 0s 6ms/step - loss: 0.3082 - acc: 0.9643 - val_loss: 2.6911 - val_acc: 0.6571\n",
      "Epoch 20/50\n",
      "28/28 [==============================] - 0s 6ms/step - loss: 0.2633 - acc: 1.0000 - val_loss: 2.2304 - val_acc: 0.7714\n",
      "Epoch 21/50\n",
      "28/28 [==============================] - 0s 6ms/step - loss: 0.0810 - acc: 1.0000 - val_loss: 0.4458 - val_acc: 0.8857\n",
      "Epoch 22/50\n",
      "28/28 [==============================] - 0s 6ms/step - loss: 0.0027 - acc: 1.0000 - val_loss: 0.4344 - val_acc: 0.8857\n",
      "Epoch 23/50\n",
      "28/28 [==============================] - 0s 6ms/step - loss: 0.2577 - acc: 0.9286 - val_loss: 1.7407 - val_acc: 0.8000\n",
      "Epoch 24/50\n",
      "28/28 [==============================] - 0s 6ms/step - loss: 0.0823 - acc: 0.9643 - val_loss: 3.0865 - val_acc: 0.6286\n",
      "Epoch 25/50\n",
      "28/28 [==============================] - 0s 6ms/step - loss: 0.3397 - acc: 0.9643 - val_loss: 0.8636 - val_acc: 0.8571\n",
      "Epoch 26/50\n",
      "28/28 [==============================] - 0s 6ms/step - loss: 0.9162 - acc: 0.8214 - val_loss: 1.3639 - val_acc: 0.8286\n",
      "Epoch 27/50\n",
      "28/28 [==============================] - 0s 6ms/step - loss: 0.0073 - acc: 1.0000 - val_loss: 1.0284 - val_acc: 0.8857\n",
      "Epoch 28/50\n",
      "28/28 [==============================] - 0s 6ms/step - loss: 0.0012 - acc: 1.0000 - val_loss: 0.9693 - val_acc: 0.8857\n",
      "Epoch 29/50\n",
      "28/28 [==============================] - 0s 6ms/step - loss: 0.0494 - acc: 1.0000 - val_loss: 0.9668 - val_acc: 0.8857\n",
      "Epoch 30/50\n",
      "28/28 [==============================] - 0s 6ms/step - loss: 0.0078 - acc: 1.0000 - val_loss: 1.8618 - val_acc: 0.8000\n",
      "Epoch 31/50\n",
      "28/28 [==============================] - 0s 6ms/step - loss: 0.0018 - acc: 1.0000 - val_loss: 2.0784 - val_acc: 0.8000\n",
      "Epoch 32/50\n",
      "28/28 [==============================] - 0s 6ms/step - loss: 0.0105 - acc: 1.0000 - val_loss: 2.5252 - val_acc: 0.8000\n",
      "Epoch 33/50\n",
      "28/28 [==============================] - 0s 6ms/step - loss: 6.7317e-04 - acc: 1.0000 - val_loss: 2.5186 - val_acc: 0.8000\n",
      "Epoch 34/50\n",
      "28/28 [==============================] - 0s 6ms/step - loss: 1.6296e-05 - acc: 1.0000 - val_loss: 2.5172 - val_acc: 0.8000\n",
      "Epoch 35/50\n",
      "28/28 [==============================] - 0s 6ms/step - loss: 0.1120 - acc: 0.9643 - val_loss: 0.7596 - val_acc: 0.8571\n",
      "Epoch 36/50\n",
      "28/28 [==============================] - 0s 6ms/step - loss: 3.1080e-07 - acc: 1.0000 - val_loss: 0.7594 - val_acc: 0.8571\n",
      "Epoch 37/50\n",
      "28/28 [==============================] - 0s 6ms/step - loss: 1.1435e-05 - acc: 1.0000 - val_loss: 0.7579 - val_acc: 0.8571\n",
      "Epoch 38/50\n",
      "28/28 [==============================] - 0s 6ms/step - loss: 0.0019 - acc: 1.0000 - val_loss: 0.7542 - val_acc: 0.8571\n",
      "Epoch 39/50\n",
      "28/28 [==============================] - 0s 6ms/step - loss: 0.0247 - acc: 1.0000 - val_loss: 0.7279 - val_acc: 0.8286\n",
      "Epoch 40/50\n",
      "28/28 [==============================] - 0s 6ms/step - loss: 4.0832e-04 - acc: 1.0000 - val_loss: 0.7315 - val_acc: 0.8286\n",
      "Epoch 41/50\n",
      "28/28 [==============================] - 0s 6ms/step - loss: 0.0302 - acc: 1.0000 - val_loss: 0.9099 - val_acc: 0.8857\n",
      "Epoch 42/50\n",
      "28/28 [==============================] - 0s 6ms/step - loss: 9.7989e-04 - acc: 1.0000 - val_loss: 0.7959 - val_acc: 0.8857\n",
      "Epoch 43/50\n",
      "28/28 [==============================] - 0s 6ms/step - loss: 1.5464e-05 - acc: 1.0000 - val_loss: 0.7956 - val_acc: 0.8857\n",
      "Epoch 44/50\n",
      "28/28 [==============================] - 0s 6ms/step - loss: 0.0248 - acc: 1.0000 - val_loss: 0.7955 - val_acc: 0.8857\n",
      "Epoch 45/50\n",
      "28/28 [==============================] - 0s 6ms/step - loss: 0.0014 - acc: 1.0000 - val_loss: 1.0865 - val_acc: 0.8857\n",
      "Epoch 46/50\n",
      "28/28 [==============================] - 0s 6ms/step - loss: 5.1768e-05 - acc: 1.0000 - val_loss: 1.0752 - val_acc: 0.8857\n",
      "Epoch 47/50\n",
      "28/28 [==============================] - 0s 6ms/step - loss: 6.8231e-04 - acc: 1.0000 - val_loss: 1.0863 - val_acc: 0.8857\n",
      "Epoch 48/50\n",
      "28/28 [==============================] - 0s 6ms/step - loss: 3.6401e-07 - acc: 1.0000 - val_loss: 1.0864 - val_acc: 0.8857\n",
      "Epoch 49/50\n",
      "28/28 [==============================] - 0s 6ms/step - loss: 1.6674e-05 - acc: 1.0000 - val_loss: 1.0861 - val_acc: 0.8857\n",
      "Epoch 50/50\n",
      "28/28 [==============================] - 0s 6ms/step - loss: 6.4811e-05 - acc: 1.0000 - val_loss: 1.0921 - val_acc: 0.8857\n",
      "35/35 [==============================] - 0s 736us/step\n",
      "[INFO] accuracy: 88.57%\n",
      "[INFO] Loss: 1.092084036554609\n"
     ]
    }
   ],
   "source": [
    "model = Sequential()  \n",
    "model.add(Flatten(input_shape=train_data.shape[1:]))  \n",
    "model.add(Dense(256, activation='relu'))  \n",
    "model.add(Dropout(0.5))  \n",
    "model.add(Dense(num_classes, activation='sigmoid'))  \n",
    "\n",
    "model.compile(optimizer='rmsprop',  \n",
    "          loss='categorical_crossentropy', metrics=['accuracy'])  \n",
    "\n",
    "history = model.fit(train_data, train_labels,  \n",
    "      epochs=epochs,  \n",
    "      batch_size=batch_size,  \n",
    "      validation_data=(validation_data, validation_labels))  \n",
    "\n",
    "model.save_weights(top_model_weights_path)  \n",
    "\n",
    "(eval_loss, eval_accuracy) = model.evaluate(  \n",
    " validation_data, validation_labels, batch_size=batch_size, verbose=1)\n",
    "\n",
    "print(\"[INFO] accuracy: {:.2f}%\".format(eval_accuracy * 100))  \n",
    "print(\"[INFO] Loss: {}\".format(eval_loss)) "
   ]
  },
  {
   "cell_type": "markdown",
   "metadata": {},
   "source": [
    "# Plot stuff"
   ]
  },
  {
   "cell_type": "code",
   "execution_count": 10,
   "metadata": {},
   "outputs": [
    {
     "data": {
      "image/png": "[encoded data removed]",
      "text/plain": [
       "<matplotlib.figure.Figure at 0x12575d518>"
      ]
     },
     "metadata": {},
     "output_type": "display_data"
    }
   ],
   "source": [
    "plt.figure(1)  \n",
    "\n",
    "# summarize history for accuracy  \n",
    "plt.subplot(211)  \n",
    "plt.plot(history.history['acc'])  \n",
    "plt.plot(history.history['val_acc'])  \n",
    "plt.title('model accuracy')  \n",
    "plt.ylabel('accuracy')  \n",
    "plt.xlabel('epoch')  \n",
    "plt.legend(['train', 'test'], loc='upper left')  \n",
    "\n",
    "# summarize history for loss  \n",
    "plt.subplot(212)  \n",
    "plt.plot(history.history['loss'])  \n",
    "plt.plot(history.history['val_loss'])  \n",
    "plt.title('model loss')  \n",
    "plt.ylabel('loss')  \n",
    "plt.xlabel('epoch')  \n",
    "plt.legend(['train', 'test'], loc='upper left')  \n",
    "plt.show() "
   ]
  },
  {
   "cell_type": "markdown",
   "metadata": {},
   "source": [
    "# Prediction"
   ]
  },
  {
   "cell_type": "code",
   "execution_count": 11,
   "metadata": {},
   "outputs": [
    {
     "name": "stdout",
     "output_type": "stream",
     "text": [
      "[INFO] loading and preprocessing image...\n"
     ]
    }
   ],
   "source": []
  },
  {
   "cell_type": "code",
   "execution_count": 35,
   "metadata": {
    "collapsed": true
   },
   "outputs": [],
   "source": [
    "def get_prediction(image_path):\n",
    "    # preprocess\n",
    "    image_path = 'data/test/2.jpg'  \n",
    "\n",
    "    #print(\"[INFO] loading and preprocessing image...\")  \n",
    "    image = load_img(image_path, target_size=(224, 224))  \n",
    "    image = img_to_array(image)  \n",
    "\n",
    "    # important! otherwise the predictions will be '0'  \n",
    "    image = image / 255  \n",
    "\n",
    "    image = np.expand_dims(image, axis=0)  \n",
    "    # run image through pipeline\n",
    "    # build the VGG16 network  \n",
    "    model = applications.VGG16(include_top=False, weights='imagenet')  \n",
    "\n",
    "    # get the bottleneck prediction from the pre-trained VGG16 model  \n",
    "    bottleneck_prediction = model.predict(image)  \n",
    "\n",
    "    # build top model  \n",
    "    model = Sequential()  \n",
    "    model.add(Flatten(input_shape=bottleneck_prediction.shape[1:]))  \n",
    "    model.add(Dense(256, activation='relu'))  \n",
    "    model.add(Dropout(0.5))  \n",
    "    model.add(Dense(num_classes, activation='sigmoid'))  \n",
    "\n",
    "    model.load_weights(top_model_weights_path)  \n",
    "\n",
    "    # use the bottleneck prediction on the top model to get the final classification  \n",
    "    class_predicted = model.predict_classes(bottleneck_prediction) \n",
    "\n",
    "    inID = class_predicted[0]  \n",
    "\n",
    "    class_dictionary = generator_top.class_indices  \n",
    "\n",
    "    inv_map = {v: k for k, v in class_dictionary.items()}  \n",
    "\n",
    "    label = inv_map[inID]  \n",
    "    return label\n"
   ]
  },
  {
   "cell_type": "code",
   "execution_count": 36,
   "metadata": {},
   "outputs": [
    {
     "name": "stdout",
     "output_type": "stream",
     "text": [
      "Image ID: 1, Label: 2\n"
     ]
    }
   ],
   "source": [
    "# get the prediction label  \n",
    "print(\"Image ID: {}, Label: {}\".format(inID, label))  "
   ]
  },
  {
   "cell_type": "code",
   "execution_count": 40,
   "metadata": {},
   "outputs": [
    {
     "name": "stdout",
     "output_type": "stream",
     "text": [
      "Predicted: 2 for picture #1 \n",
      "Predicted: 2 for picture #2 \n",
      "Predicted: 2 for picture #3 \n",
      "Predicted: 2 for picture #4 \n",
      "Predicted: 2 for picture #5 \n",
      "[1, 2, 3, 4, 5] ['2', '2', '2', '2', '2']\n"
     ]
    }
   ],
   "source": [
    "# Kaggle submission\n",
    "import json\n",
    "json_data = json.load(open('kaggle/test.json'))\n",
    "test_dir = 'data/test/'\n",
    "\n",
    "ids = []\n",
    "predicted_labels = []\n",
    "\n",
    "for i in json_data['images'][:5]:\n",
    "    pred = get_prediction(test_dir + str(i) + '.jpg')\n",
    "    ids.append(i['image_id'])\n",
    "    predicted_labels.append(pred)\n",
    "    print('Predicted: {:} for picture #{:} '.format(pred, i['image_id']))\n",
    "    \n",
    "print(ids, predicted_labels)"
   ]
  },
  {
   "cell_type": "code",
   "execution_count": 45,
   "metadata": {},
   "outputs": [],
   "source": [
    "import pandas as pd\n",
    "import datetime\n",
    "\n",
    "my_submission = pd.DataFrame({'id': ids, 'predicted': predicted_labels})\n",
    "file_name = 'submission_' + str(datetime.datetime.now()) +'.csv'\n",
    "my_submission.to_csv(file_name, index=False)"
   ]
  },
  {
   "cell_type": "code",
   "execution_count": null,
   "metadata": {
    "collapsed": true
   },
   "outputs": [],
   "source": []
  }
 ],
 "metadata": {
  "kernelspec": {
   "display_name": "Python 3",
   "language": "python",
   "name": "python3"
  },
  "language_info": {
   "codemirror_mode": {
    "name": "ipython",
    "version": 3
   },
   "file_extension": ".py",
   "mimetype": "text/x-python",
   "name": "python",
   "nbconvert_exporter": "python",
   "pygments_lexer": "ipython3",
   "version": "3.6.5"
  },
  "varInspector": {
   "cols": {
    "lenName": 16,
    "lenType": 16,
    "lenVar": 40
   },
   "kernels_config": {
    "python": {
     "delete_cmd_postfix": "",
     "delete_cmd_prefix": "del ",
     "library": "var_list.py",
     "varRefreshCmd": "print(var_dic_list())"
    },
    "r": {
     "delete_cmd_postfix": ") ",
     "delete_cmd_prefix": "rm(",
     "library": "var_list.r",
     "varRefreshCmd": "cat(var_dic_list()) "
    }
   },
   "types_to_exclude": [
    "module",
    "function",
    "builtin_function_or_method",
    "instance",
    "_Feature"
   ],
   "window_display": false
  }
 },
 "nbformat": 4,
 "nbformat_minor": 2
}
