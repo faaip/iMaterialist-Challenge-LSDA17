{
 "cells": [
  {
   "cell_type": "markdown",
   "metadata": {},
   "source": [
    "# Keras & Tensorflow multiclass classification\n",
    "https://www.codesofinterest.com/2017/08/bottleneck-features-multi-class-classification-keras.html"
   ]
  },
  {
   "cell_type": "code",
   "execution_count": 1,
   "metadata": {},
   "outputs": [
    {
     "name": "stderr",
     "output_type": "stream",
     "text": [
      "/usr/local/lib/python3.6/site-packages/h5py/__init__.py:36: FutureWarning: Conversion of the second argument of issubdtype from `float` to `np.floating` is deprecated. In future, it will be treated as `np.float64 == np.dtype(float).type`.\n",
      "  from ._conv import register_converters as _register_converters\n",
      "Using TensorFlow backend.\n"
     ]
    }
   ],
   "source": [
    "import numpy as np  \n",
    "from keras.preprocessing.image import ImageDataGenerator, img_to_array, load_img  \n",
    "from keras.models import Sequential  \n",
    "from keras.layers import Dropout, Flatten, Dense  \n",
    "from keras import applications  \n",
    "from keras.utils.np_utils import to_categorical  \n",
    "import matplotlib.pyplot as plt  \n",
    "import math  \n",
    "import cv2  "
   ]
  },
  {
   "cell_type": "code",
   "execution_count": 2,
   "metadata": {
    "collapsed": true
   },
   "outputs": [],
   "source": [
    "img_width, img_height = 224, 224  # image dimensions\n",
    "\n",
    "top_model_weights_path = 'models/bottleneck_fc_model.h5'  # the top layer\n",
    "train_data_dir = 'toy_data/train/'\n",
    "validation_data_dir = 'toy_data/valid/'\n",
    "\n",
    "epochs = 50\n",
    "batch_size = 16"
   ]
  },
  {
   "cell_type": "code",
   "execution_count": 3,
   "metadata": {
    "collapsed": true
   },
   "outputs": [],
   "source": [
    "model = applications.VGG16(include_top=False, weights='imagenet')"
   ]
  },
  {
   "cell_type": "code",
   "execution_count": 4,
   "metadata": {},
   "outputs": [
    {
     "name": "stdout",
     "output_type": "stream",
     "text": [
      "Found 382 images belonging to 128 classes.\n",
      "24/24 [==============================] - 100s 4s/step\n",
      "Found 384 images belonging to 128 classes.\n",
      "24/24 [==============================] - 99s 4s/step\n",
      "Found 382 images belonging to 128 classes.\n",
      "Found 384 images belonging to 128 classes.\n"
     ]
    }
   ],
   "source": [
    "datagen = ImageDataGenerator(rescale=1. / 255)  \n",
    "\n",
    "generator = datagen.flow_from_directory(  \n",
    " train_data_dir,  \n",
    " target_size=(img_width, img_height),  \n",
    " batch_size=batch_size,  \n",
    " class_mode=None,  \n",
    " shuffle=False)  \n",
    "\n",
    "nb_train_samples = len(generator.filenames)  \n",
    "num_classes = len(generator.class_indices)  \n",
    "\n",
    "predict_size_train = int(math.ceil(nb_train_samples / batch_size))  \n",
    "\n",
    "bottleneck_features_train = model.predict_generator(  \n",
    " generator, predict_size_train, verbose=1)  \n",
    "\n",
    "np.save('bottleneck_features_train.npy', bottleneck_features_train)  \n",
    "\n",
    "generator = datagen.flow_from_directory(  \n",
    " validation_data_dir,  \n",
    " target_size=(img_width, img_height),  \n",
    " batch_size=batch_size,  \n",
    " class_mode=None,  \n",
    " shuffle=False)  \n",
    "\n",
    "nb_validation_samples = len(generator.filenames)  \n",
    "\n",
    "predict_size_validation = int(math.ceil(nb_validation_samples / batch_size))  \n",
    "\n",
    "bottleneck_features_validation = model.predict_generator(  \n",
    " generator, predict_size_validation, verbose=1)  \n",
    "\n",
    "np.save('bottleneck_features_validation.npy', bottleneck_features_validation)  \n",
    "\n",
    "# labels for training data\n",
    "datagen_top = ImageDataGenerator(rescale=1./255)  \n",
    "generator_top = datagen_top.flow_from_directory(  \n",
    "     train_data_dir,  \n",
    "     target_size=(img_width, img_height),  \n",
    "     batch_size=batch_size,  \n",
    "     class_mode='categorical',  \n",
    "     shuffle=False)  \n",
    "\n",
    "nb_train_samples = len(generator_top.filenames)  \n",
    "num_classes = len(generator_top.class_indices)  \n",
    "\n",
    "# load the bottleneck features saved earlier  \n",
    "train_data = np.load('bottleneck_features_train.npy')  \n",
    "\n",
    "# get the class lebels for the training data, in the original order  \n",
    "train_labels = generator_top.classes  \n",
    "\n",
    "# convert the training labels to categorical vectors  \n",
    "train_labels = to_categorical(train_labels, num_classes=num_classes)  \n",
    "\n",
    "# labels for validation features\n",
    "generator_top = datagen_top.flow_from_directory(  \n",
    "     validation_data_dir,  \n",
    "     target_size=(img_width, img_height),  \n",
    "     batch_size=batch_size,  \n",
    "     class_mode=None,  \n",
    "     shuffle=False)  \n",
    "\n",
    "nb_validation_samples = len(generator_top.filenames)  \n",
    "\n",
    "validation_data = np.load('bottleneck_features_validation.npy')  \n",
    "\n",
    "validation_labels = generator_top.classes  \n",
    "validation_labels = to_categorical(validation_labels, num_classes=num_classes) "
   ]
  },
  {
   "cell_type": "markdown",
   "metadata": {},
   "source": [
    "# Create and train top model"
   ]
  },
  {
   "cell_type": "code",
   "execution_count": 5,
   "metadata": {},
   "outputs": [
    {
     "name": "stdout",
     "output_type": "stream",
     "text": [
      "Train on 382 samples, validate on 384 samples\n",
      "Epoch 1/50\n",
      "382/382 [==============================] - 2s 5ms/step - loss: 8.9256 - acc: 0.0105 - val_loss: 5.1796 - val_acc: 0.0104\n",
      "Epoch 2/50\n",
      "382/382 [==============================] - 2s 5ms/step - loss: 4.9227 - acc: 0.0445 - val_loss: 5.0972 - val_acc: 0.0052\n",
      "Epoch 3/50\n",
      "382/382 [==============================] - 2s 5ms/step - loss: 4.7780 - acc: 0.0550 - val_loss: 4.8797 - val_acc: 0.0234\n",
      "Epoch 4/50\n",
      "382/382 [==============================] - 2s 5ms/step - loss: 4.4009 - acc: 0.1126 - val_loss: 4.9569 - val_acc: 0.0417\n",
      "Epoch 5/50\n",
      "382/382 [==============================] - 2s 5ms/step - loss: 4.0140 - acc: 0.1597 - val_loss: 4.6351 - val_acc: 0.0729\n",
      "Epoch 6/50\n",
      "382/382 [==============================] - 2s 5ms/step - loss: 3.2314 - acc: 0.2932 - val_loss: 4.3855 - val_acc: 0.0911\n",
      "Epoch 7/50\n",
      "382/382 [==============================] - 2s 5ms/step - loss: 2.4966 - acc: 0.4084 - val_loss: 5.0765 - val_acc: 0.0938\n",
      "Epoch 8/50\n",
      "382/382 [==============================] - 2s 5ms/step - loss: 1.9634 - acc: 0.5105 - val_loss: 4.3932 - val_acc: 0.1380\n",
      "Epoch 9/50\n",
      "382/382 [==============================] - 2s 5ms/step - loss: 1.5470 - acc: 0.5864 - val_loss: 4.5326 - val_acc: 0.1406\n",
      "Epoch 10/50\n",
      "382/382 [==============================] - 2s 5ms/step - loss: 1.3540 - acc: 0.6466 - val_loss: 4.3759 - val_acc: 0.1536\n",
      "Epoch 11/50\n",
      "382/382 [==============================] - 2s 5ms/step - loss: 0.9027 - acc: 0.7592 - val_loss: 4.6190 - val_acc: 0.1510\n",
      "Epoch 12/50\n",
      "382/382 [==============================] - 2s 5ms/step - loss: 0.8884 - acc: 0.7670 - val_loss: 5.0865 - val_acc: 0.1172\n",
      "Epoch 13/50\n",
      "382/382 [==============================] - 2s 5ms/step - loss: 0.7790 - acc: 0.7853 - val_loss: 4.6161 - val_acc: 0.1667\n",
      "Epoch 14/50\n",
      "382/382 [==============================] - 2s 5ms/step - loss: 0.5331 - acc: 0.8534 - val_loss: 4.8846 - val_acc: 0.1615\n",
      "Epoch 15/50\n",
      "382/382 [==============================] - 2s 5ms/step - loss: 0.4843 - acc: 0.8560 - val_loss: 4.8726 - val_acc: 0.1615\n",
      "Epoch 16/50\n",
      "382/382 [==============================] - 2s 5ms/step - loss: 0.3696 - acc: 0.8848 - val_loss: 4.9595 - val_acc: 0.1484\n",
      "Epoch 17/50\n",
      "382/382 [==============================] - 2s 5ms/step - loss: 0.5004 - acc: 0.8717 - val_loss: 5.0007 - val_acc: 0.1536\n",
      "Epoch 18/50\n",
      "382/382 [==============================] - 2s 5ms/step - loss: 0.4232 - acc: 0.8874 - val_loss: 4.9137 - val_acc: 0.1484\n",
      "Epoch 19/50\n",
      "382/382 [==============================] - 2s 5ms/step - loss: 0.2539 - acc: 0.9346 - val_loss: 5.9936 - val_acc: 0.0964\n",
      "Epoch 20/50\n",
      "382/382 [==============================] - 2s 5ms/step - loss: 0.2861 - acc: 0.9110 - val_loss: 5.4659 - val_acc: 0.1641\n",
      "Epoch 21/50\n",
      "382/382 [==============================] - 2s 6ms/step - loss: 0.3492 - acc: 0.8927 - val_loss: 5.1893 - val_acc: 0.1693\n",
      "Epoch 22/50\n",
      "382/382 [==============================] - 2s 5ms/step - loss: 0.1595 - acc: 0.9529 - val_loss: 5.7558 - val_acc: 0.1328\n",
      "Epoch 23/50\n",
      "382/382 [==============================] - 2s 5ms/step - loss: 0.2648 - acc: 0.9162 - val_loss: 5.4572 - val_acc: 0.1302\n",
      "Epoch 24/50\n",
      "382/382 [==============================] - 2s 5ms/step - loss: 0.1235 - acc: 0.9529 - val_loss: 5.1136 - val_acc: 0.1771\n",
      "Epoch 25/50\n",
      "382/382 [==============================] - 2s 5ms/step - loss: 0.1776 - acc: 0.9372 - val_loss: 5.6118 - val_acc: 0.1641\n",
      "Epoch 26/50\n",
      "382/382 [==============================] - 2s 5ms/step - loss: 0.2465 - acc: 0.9267 - val_loss: 6.2234 - val_acc: 0.1354\n",
      "Epoch 27/50\n",
      "382/382 [==============================] - 2s 5ms/step - loss: 0.1755 - acc: 0.9398 - val_loss: 5.9071 - val_acc: 0.1745\n",
      "Epoch 28/50\n",
      "382/382 [==============================] - 2s 5ms/step - loss: 0.2492 - acc: 0.9241 - val_loss: 5.2143 - val_acc: 0.1771\n",
      "Epoch 29/50\n",
      "382/382 [==============================] - 2s 5ms/step - loss: 0.1867 - acc: 0.9293 - val_loss: 5.4346 - val_acc: 0.1589\n",
      "Epoch 30/50\n",
      "382/382 [==============================] - 2s 5ms/step - loss: 0.1126 - acc: 0.9607 - val_loss: 5.9285 - val_acc: 0.1667\n",
      "Epoch 31/50\n",
      "382/382 [==============================] - 2s 5ms/step - loss: 0.2088 - acc: 0.9424 - val_loss: 5.8070 - val_acc: 0.1484\n",
      "Epoch 32/50\n",
      "382/382 [==============================] - 2s 5ms/step - loss: 0.1636 - acc: 0.9607 - val_loss: 5.9317 - val_acc: 0.1719\n",
      "Epoch 33/50\n",
      "382/382 [==============================] - 2s 5ms/step - loss: 0.0889 - acc: 0.9712 - val_loss: 6.0331 - val_acc: 0.1536\n",
      "Epoch 34/50\n",
      "382/382 [==============================] - 2s 5ms/step - loss: 0.2015 - acc: 0.9529 - val_loss: 6.0259 - val_acc: 0.1615\n",
      "Epoch 35/50\n",
      "382/382 [==============================] - 2s 5ms/step - loss: 0.1769 - acc: 0.9581 - val_loss: 5.3384 - val_acc: 0.2005\n",
      "Epoch 36/50\n",
      "382/382 [==============================] - 2s 5ms/step - loss: 0.0324 - acc: 0.9948 - val_loss: 5.6013 - val_acc: 0.2005\n",
      "Epoch 37/50\n",
      "382/382 [==============================] - 2s 5ms/step - loss: 0.1222 - acc: 0.9634 - val_loss: 6.4683 - val_acc: 0.1641\n",
      "Epoch 38/50\n",
      "382/382 [==============================] - 2s 5ms/step - loss: 0.1641 - acc: 0.9529 - val_loss: 5.9246 - val_acc: 0.2031\n",
      "Epoch 39/50\n",
      "382/382 [==============================] - 2s 5ms/step - loss: 0.2069 - acc: 0.9450 - val_loss: 6.2993 - val_acc: 0.1771\n",
      "Epoch 40/50\n",
      "382/382 [==============================] - 2s 5ms/step - loss: 0.1502 - acc: 0.9476 - val_loss: 6.6788 - val_acc: 0.1458\n",
      "Epoch 41/50\n",
      "382/382 [==============================] - 2s 5ms/step - loss: 0.0775 - acc: 0.9791 - val_loss: 5.7785 - val_acc: 0.1927\n",
      "Epoch 42/50\n",
      "382/382 [==============================] - 2s 5ms/step - loss: 0.1571 - acc: 0.9503 - val_loss: 7.0405 - val_acc: 0.1562\n",
      "Epoch 43/50\n",
      "382/382 [==============================] - 2s 5ms/step - loss: 0.1384 - acc: 0.9555 - val_loss: 6.2210 - val_acc: 0.2031\n",
      "Epoch 44/50\n",
      "382/382 [==============================] - 2s 5ms/step - loss: 0.1223 - acc: 0.9555 - val_loss: 6.9111 - val_acc: 0.1510\n",
      "Epoch 45/50\n",
      "382/382 [==============================] - 2s 5ms/step - loss: 0.1149 - acc: 0.9686 - val_loss: 6.5691 - val_acc: 0.1589\n",
      "Epoch 46/50\n",
      "382/382 [==============================] - 2s 5ms/step - loss: 0.1021 - acc: 0.9660 - val_loss: 6.5183 - val_acc: 0.1562\n",
      "Epoch 47/50\n",
      "382/382 [==============================] - 2s 5ms/step - loss: 0.1049 - acc: 0.9738 - val_loss: 5.8939 - val_acc: 0.1745\n",
      "Epoch 48/50\n",
      "382/382 [==============================] - 2s 5ms/step - loss: 0.0897 - acc: 0.9764 - val_loss: 6.5321 - val_acc: 0.1562\n",
      "Epoch 49/50\n",
      "382/382 [==============================] - 2s 5ms/step - loss: 0.1417 - acc: 0.9607 - val_loss: 6.5210 - val_acc: 0.1589\n",
      "Epoch 50/50\n",
      "382/382 [==============================] - 2s 5ms/step - loss: 0.0987 - acc: 0.9712 - val_loss: 6.1943 - val_acc: 0.2135\n",
      "384/384 [==============================] - 0s 513us/step\n",
      "[INFO] accuracy: 21.35%\n",
      "[INFO] Loss: 6.19429937005043\n"
     ]
    }
   ],
   "source": [
    "model = Sequential()  \n",
    "model.add(Flatten(input_shape=train_data.shape[1:]))  \n",
    "model.add(Dense(256, activation='relu'))  \n",
    "model.add(Dropout(0.5))  \n",
    "model.add(Dense(num_classes, activation='sigmoid'))  \n",
    "\n",
    "model.compile(optimizer='rmsprop',  \n",
    "          loss='categorical_crossentropy', metrics=['accuracy'])  \n",
    "\n",
    "history = model.fit(train_data, train_labels,  \n",
    "      epochs=epochs,  \n",
    "      batch_size=batch_size,  \n",
    "      validation_data=(validation_data, validation_labels))  \n",
    "\n",
    "model.save_weights(top_model_weights_path)  \n",
    "\n",
    "(eval_loss, eval_accuracy) = model.evaluate(  \n",
    " validation_data, validation_labels, batch_size=batch_size, verbose=1)\n",
    "\n",
    "print(\"[INFO] accuracy: {:.2f}%\".format(eval_accuracy * 100))  \n",
    "print(\"[INFO] Loss: {}\".format(eval_loss)) "
   ]
  },
  {
   "cell_type": "markdown",
   "metadata": {},
   "source": [
    "# Plot stuff"
   ]
  },
  {
   "cell_type": "code",
   "execution_count": 6,
   "metadata": {},
   "outputs": [
    {
     "data": {
      "image/png": "[encoded data removed]",
      "text/plain": [
       "<matplotlib.figure.Figure at 0x10cf422b0>"
      ]
     },
     "metadata": {},
     "output_type": "display_data"
    }
   ],
   "source": [
    "plt.figure(1)  \n",
    "\n",
    "# summarize history for accuracy  \n",
    "plt.subplot(211)  \n",
    "plt.plot(history.history['acc'])  \n",
    "plt.plot(history.history['val_acc'])  \n",
    "plt.title('model accuracy')  \n",
    "plt.ylabel('accuracy')  \n",
    "plt.xlabel('epoch')  \n",
    "plt.legend(['train', 'test'], loc='upper left')  \n",
    "\n",
    "# summarize history for loss  \n",
    "plt.subplot(212)  \n",
    "plt.plot(history.history['loss'])  \n",
    "plt.plot(history.history['val_loss'])  \n",
    "plt.title('model loss')  \n",
    "plt.ylabel('loss')  \n",
    "plt.xlabel('epoch')  \n",
    "plt.legend(['train', 'test'], loc='upper left')  \n",
    "plt.show() "
   ]
  },
  {
   "cell_type": "markdown",
   "metadata": {},
   "source": [
    "# Prediction"
   ]
  },
  {
   "cell_type": "code",
   "execution_count": 7,
   "metadata": {
    "collapsed": true
   },
   "outputs": [],
   "source": [
    "def get_prediction(image_path):\n",
    "    #print(\"[INFO] loading and preprocessing image...\")  \n",
    "    image = load_img(image_path, target_size=(224, 224))  \n",
    "    image = img_to_array(image)  \n",
    "\n",
    "    # important! otherwise the predictions will be '0'  \n",
    "    image = image / 255  \n",
    "\n",
    "    image = np.expand_dims(image, axis=0)  \n",
    "    # run image through pipeline\n",
    "    # build the VGG16 network  \n",
    "    model = applications.VGG16(include_top=False, weights='imagenet')  \n",
    "\n",
    "    # get the bottleneck prediction from the pre-trained VGG16 model  \n",
    "    bottleneck_prediction = model.predict(image)  \n",
    "\n",
    "    # build top model  \n",
    "    model = Sequential()  \n",
    "    model.add(Flatten(input_shape=bottleneck_prediction.shape[1:]))  \n",
    "    model.add(Dense(256, activation='relu'))  \n",
    "    model.add(Dropout(0.5))  \n",
    "    model.add(Dense(num_classes, activation='sigmoid'))  \n",
    "\n",
    "    model.load_weights(top_model_weights_path)  \n",
    "\n",
    "    # use the bottleneck prediction on the top model to get the final classification  \n",
    "    class_predicted = model.predict_classes(bottleneck_prediction) \n",
    "\n",
    "    inID = class_predicted[0]  \n",
    "\n",
    "    class_dictionary = generator_top.class_indices  \n",
    "\n",
    "    inv_map = {v: k for k, v in class_dictionary.items()}  \n",
    "\n",
    "    label = inv_map[inID]  \n",
    "    return label"
   ]
  },
  {
   "cell_type": "code",
   "execution_count": 16,
   "metadata": {},
   "outputs": [
    {
     "data": {
      "application/vnd.jupyter.widget-view+json": {
       "model_id": "36d87cd4a14046cd9dfa7ac913b13b6f",
       "version_major": 2,
       "version_minor": 0
      },
      "text/plain": [
       "A Jupyter Widget"
      ]
     },
     "metadata": {},
     "output_type": "display_data"
    },
    {
     "ename": "KeyboardInterrupt",
     "evalue": "",
     "output_type": "error",
     "traceback": [
      "\u001b[0;31m---------------------------------------------------------------------------\u001b[0m",
      "\u001b[0;31mKeyboardInterrupt\u001b[0m                         Traceback (most recent call last)",
      "\u001b[0;32m<ipython-input-16-0026533a2d45>\u001b[0m in \u001b[0;36m<module>\u001b[0;34m()\u001b[0m\n\u001b[1;32m     11\u001b[0m \u001b[0;34m\u001b[0m\u001b[0m\n\u001b[1;32m     12\u001b[0m \u001b[0;32mfor\u001b[0m \u001b[0mi\u001b[0m \u001b[0;32min\u001b[0m \u001b[0mtqdm_notebook\u001b[0m\u001b[0;34m(\u001b[0m\u001b[0mjson_data\u001b[0m\u001b[0;34m[\u001b[0m\u001b[0;34m'images'\u001b[0m\u001b[0;34m]\u001b[0m\u001b[0;34m)\u001b[0m\u001b[0;34m:\u001b[0m\u001b[0;34m\u001b[0m\u001b[0m\n\u001b[0;32m---> 13\u001b[0;31m     \u001b[0mpred\u001b[0m \u001b[0;34m=\u001b[0m \u001b[0mget_prediction\u001b[0m\u001b[0;34m(\u001b[0m\u001b[0mtest_dir\u001b[0m \u001b[0;34m+\u001b[0m \u001b[0mstr\u001b[0m\u001b[0;34m(\u001b[0m\u001b[0mi\u001b[0m\u001b[0;34m[\u001b[0m\u001b[0;34m'image_id'\u001b[0m\u001b[0;34m]\u001b[0m\u001b[0;34m)\u001b[0m \u001b[0;34m+\u001b[0m \u001b[0;34m'.jpg'\u001b[0m\u001b[0;34m)\u001b[0m\u001b[0;34m\u001b[0m\u001b[0m\n\u001b[0m\u001b[1;32m     14\u001b[0m     \u001b[0mids\u001b[0m\u001b[0;34m.\u001b[0m\u001b[0mappend\u001b[0m\u001b[0;34m(\u001b[0m\u001b[0mi\u001b[0m\u001b[0;34m[\u001b[0m\u001b[0;34m'image_id'\u001b[0m\u001b[0;34m]\u001b[0m\u001b[0;34m)\u001b[0m\u001b[0;34m\u001b[0m\u001b[0m\n\u001b[1;32m     15\u001b[0m     \u001b[0mpredicted_labels\u001b[0m\u001b[0;34m.\u001b[0m\u001b[0mappend\u001b[0m\u001b[0;34m(\u001b[0m\u001b[0mpred\u001b[0m\u001b[0;34m)\u001b[0m\u001b[0;34m\u001b[0m\u001b[0m\n",
      "\u001b[0;32m<ipython-input-7-02158bcb06ac>\u001b[0m in \u001b[0;36mget_prediction\u001b[0;34m(image_path)\u001b[0m\n\u001b[1;32m     13\u001b[0m \u001b[0;34m\u001b[0m\u001b[0m\n\u001b[1;32m     14\u001b[0m     \u001b[0;31m# get the bottleneck prediction from the pre-trained VGG16 model\u001b[0m\u001b[0;34m\u001b[0m\u001b[0;34m\u001b[0m\u001b[0m\n\u001b[0;32m---> 15\u001b[0;31m     \u001b[0mbottleneck_prediction\u001b[0m \u001b[0;34m=\u001b[0m \u001b[0mmodel\u001b[0m\u001b[0;34m.\u001b[0m\u001b[0mpredict\u001b[0m\u001b[0;34m(\u001b[0m\u001b[0mimage\u001b[0m\u001b[0;34m)\u001b[0m\u001b[0;34m\u001b[0m\u001b[0m\n\u001b[0m\u001b[1;32m     16\u001b[0m \u001b[0;34m\u001b[0m\u001b[0m\n\u001b[1;32m     17\u001b[0m     \u001b[0;31m# build top model\u001b[0m\u001b[0;34m\u001b[0m\u001b[0;34m\u001b[0m\u001b[0m\n",
      "\u001b[0;32m/usr/local/lib/python3.6/site-packages/keras/engine/training.py\u001b[0m in \u001b[0;36mpredict\u001b[0;34m(self, x, batch_size, verbose, steps)\u001b[0m\n\u001b[1;32m   1833\u001b[0m         \u001b[0mf\u001b[0m \u001b[0;34m=\u001b[0m \u001b[0mself\u001b[0m\u001b[0;34m.\u001b[0m\u001b[0mpredict_function\u001b[0m\u001b[0;34m\u001b[0m\u001b[0m\n\u001b[1;32m   1834\u001b[0m         return self._predict_loop(f, ins, batch_size=batch_size,\n\u001b[0;32m-> 1835\u001b[0;31m                                   verbose=verbose, steps=steps)\n\u001b[0m\u001b[1;32m   1836\u001b[0m \u001b[0;34m\u001b[0m\u001b[0m\n\u001b[1;32m   1837\u001b[0m     def train_on_batch(self, x, y,\n",
      "\u001b[0;32m/usr/local/lib/python3.6/site-packages/keras/engine/training.py\u001b[0m in \u001b[0;36m_predict_loop\u001b[0;34m(self, f, ins, batch_size, verbose, steps)\u001b[0m\n\u001b[1;32m   1329\u001b[0m                     \u001b[0mins_batch\u001b[0m\u001b[0;34m[\u001b[0m\u001b[0mi\u001b[0m\u001b[0;34m]\u001b[0m \u001b[0;34m=\u001b[0m \u001b[0mins_batch\u001b[0m\u001b[0;34m[\u001b[0m\u001b[0mi\u001b[0m\u001b[0;34m]\u001b[0m\u001b[0;34m.\u001b[0m\u001b[0mtoarray\u001b[0m\u001b[0;34m(\u001b[0m\u001b[0;34m)\u001b[0m\u001b[0;34m\u001b[0m\u001b[0m\n\u001b[1;32m   1330\u001b[0m \u001b[0;34m\u001b[0m\u001b[0m\n\u001b[0;32m-> 1331\u001b[0;31m                 \u001b[0mbatch_outs\u001b[0m \u001b[0;34m=\u001b[0m \u001b[0mf\u001b[0m\u001b[0;34m(\u001b[0m\u001b[0mins_batch\u001b[0m\u001b[0;34m)\u001b[0m\u001b[0;34m\u001b[0m\u001b[0m\n\u001b[0m\u001b[1;32m   1332\u001b[0m                 \u001b[0;32mif\u001b[0m \u001b[0;32mnot\u001b[0m \u001b[0misinstance\u001b[0m\u001b[0;34m(\u001b[0m\u001b[0mbatch_outs\u001b[0m\u001b[0;34m,\u001b[0m \u001b[0mlist\u001b[0m\u001b[0;34m)\u001b[0m\u001b[0;34m:\u001b[0m\u001b[0;34m\u001b[0m\u001b[0m\n\u001b[1;32m   1333\u001b[0m                     \u001b[0mbatch_outs\u001b[0m \u001b[0;34m=\u001b[0m \u001b[0;34m[\u001b[0m\u001b[0mbatch_outs\u001b[0m\u001b[0;34m]\u001b[0m\u001b[0;34m\u001b[0m\u001b[0m\n",
      "\u001b[0;32m/usr/local/lib/python3.6/site-packages/keras/backend/tensorflow_backend.py\u001b[0m in \u001b[0;36m__call__\u001b[0;34m(self, inputs)\u001b[0m\n\u001b[1;32m   2480\u001b[0m         \u001b[0msession\u001b[0m \u001b[0;34m=\u001b[0m \u001b[0mget_session\u001b[0m\u001b[0;34m(\u001b[0m\u001b[0;34m)\u001b[0m\u001b[0;34m\u001b[0m\u001b[0m\n\u001b[1;32m   2481\u001b[0m         updated = session.run(fetches=fetches, feed_dict=feed_dict,\n\u001b[0;32m-> 2482\u001b[0;31m                               **self.session_kwargs)\n\u001b[0m\u001b[1;32m   2483\u001b[0m         \u001b[0;32mreturn\u001b[0m \u001b[0mupdated\u001b[0m\u001b[0;34m[\u001b[0m\u001b[0;34m:\u001b[0m\u001b[0mlen\u001b[0m\u001b[0;34m(\u001b[0m\u001b[0mself\u001b[0m\u001b[0;34m.\u001b[0m\u001b[0moutputs\u001b[0m\u001b[0;34m)\u001b[0m\u001b[0;34m]\u001b[0m\u001b[0;34m\u001b[0m\u001b[0m\n\u001b[1;32m   2484\u001b[0m \u001b[0;34m\u001b[0m\u001b[0m\n",
      "\u001b[0;32m/usr/local/lib/python3.6/site-packages/tensorflow/python/client/session.py\u001b[0m in \u001b[0;36mrun\u001b[0;34m(self, fetches, feed_dict, options, run_metadata)\u001b[0m\n\u001b[1;32m    903\u001b[0m     \u001b[0;32mtry\u001b[0m\u001b[0;34m:\u001b[0m\u001b[0;34m\u001b[0m\u001b[0m\n\u001b[1;32m    904\u001b[0m       result = self._run(None, fetches, feed_dict, options_ptr,\n\u001b[0;32m--> 905\u001b[0;31m                          run_metadata_ptr)\n\u001b[0m\u001b[1;32m    906\u001b[0m       \u001b[0;32mif\u001b[0m \u001b[0mrun_metadata\u001b[0m\u001b[0;34m:\u001b[0m\u001b[0;34m\u001b[0m\u001b[0m\n\u001b[1;32m    907\u001b[0m         \u001b[0mproto_data\u001b[0m \u001b[0;34m=\u001b[0m \u001b[0mtf_session\u001b[0m\u001b[0;34m.\u001b[0m\u001b[0mTF_GetBuffer\u001b[0m\u001b[0;34m(\u001b[0m\u001b[0mrun_metadata_ptr\u001b[0m\u001b[0;34m)\u001b[0m\u001b[0;34m\u001b[0m\u001b[0m\n",
      "\u001b[0;32m/usr/local/lib/python3.6/site-packages/tensorflow/python/client/session.py\u001b[0m in \u001b[0;36m_run\u001b[0;34m(self, handle, fetches, feed_dict, options, run_metadata)\u001b[0m\n\u001b[1;32m   1138\u001b[0m     \u001b[0;32mif\u001b[0m \u001b[0mfinal_fetches\u001b[0m \u001b[0;32mor\u001b[0m \u001b[0mfinal_targets\u001b[0m \u001b[0;32mor\u001b[0m \u001b[0;34m(\u001b[0m\u001b[0mhandle\u001b[0m \u001b[0;32mand\u001b[0m \u001b[0mfeed_dict_tensor\u001b[0m\u001b[0;34m)\u001b[0m\u001b[0;34m:\u001b[0m\u001b[0;34m\u001b[0m\u001b[0m\n\u001b[1;32m   1139\u001b[0m       results = self._do_run(handle, final_targets, final_fetches,\n\u001b[0;32m-> 1140\u001b[0;31m                              feed_dict_tensor, options, run_metadata)\n\u001b[0m\u001b[1;32m   1141\u001b[0m     \u001b[0;32melse\u001b[0m\u001b[0;34m:\u001b[0m\u001b[0;34m\u001b[0m\u001b[0m\n\u001b[1;32m   1142\u001b[0m       \u001b[0mresults\u001b[0m \u001b[0;34m=\u001b[0m \u001b[0;34m[\u001b[0m\u001b[0;34m]\u001b[0m\u001b[0;34m\u001b[0m\u001b[0m\n",
      "\u001b[0;32m/usr/local/lib/python3.6/site-packages/tensorflow/python/client/session.py\u001b[0m in \u001b[0;36m_do_run\u001b[0;34m(self, handle, target_list, fetch_list, feed_dict, options, run_metadata)\u001b[0m\n\u001b[1;32m   1319\u001b[0m     \u001b[0;32mif\u001b[0m \u001b[0mhandle\u001b[0m \u001b[0;32mis\u001b[0m \u001b[0;32mNone\u001b[0m\u001b[0;34m:\u001b[0m\u001b[0;34m\u001b[0m\u001b[0m\n\u001b[1;32m   1320\u001b[0m       return self._do_call(_run_fn, feeds, fetches, targets, options,\n\u001b[0;32m-> 1321\u001b[0;31m                            run_metadata)\n\u001b[0m\u001b[1;32m   1322\u001b[0m     \u001b[0;32melse\u001b[0m\u001b[0;34m:\u001b[0m\u001b[0;34m\u001b[0m\u001b[0m\n\u001b[1;32m   1323\u001b[0m       \u001b[0;32mreturn\u001b[0m \u001b[0mself\u001b[0m\u001b[0;34m.\u001b[0m\u001b[0m_do_call\u001b[0m\u001b[0;34m(\u001b[0m\u001b[0m_prun_fn\u001b[0m\u001b[0;34m,\u001b[0m \u001b[0mhandle\u001b[0m\u001b[0;34m,\u001b[0m \u001b[0mfeeds\u001b[0m\u001b[0;34m,\u001b[0m \u001b[0mfetches\u001b[0m\u001b[0;34m)\u001b[0m\u001b[0;34m\u001b[0m\u001b[0m\n",
      "\u001b[0;32m/usr/local/lib/python3.6/site-packages/tensorflow/python/client/session.py\u001b[0m in \u001b[0;36m_do_call\u001b[0;34m(self, fn, *args)\u001b[0m\n\u001b[1;32m   1325\u001b[0m   \u001b[0;32mdef\u001b[0m \u001b[0m_do_call\u001b[0m\u001b[0;34m(\u001b[0m\u001b[0mself\u001b[0m\u001b[0;34m,\u001b[0m \u001b[0mfn\u001b[0m\u001b[0;34m,\u001b[0m \u001b[0;34m*\u001b[0m\u001b[0margs\u001b[0m\u001b[0;34m)\u001b[0m\u001b[0;34m:\u001b[0m\u001b[0;34m\u001b[0m\u001b[0m\n\u001b[1;32m   1326\u001b[0m     \u001b[0;32mtry\u001b[0m\u001b[0;34m:\u001b[0m\u001b[0;34m\u001b[0m\u001b[0m\n\u001b[0;32m-> 1327\u001b[0;31m       \u001b[0;32mreturn\u001b[0m \u001b[0mfn\u001b[0m\u001b[0;34m(\u001b[0m\u001b[0;34m*\u001b[0m\u001b[0margs\u001b[0m\u001b[0;34m)\u001b[0m\u001b[0;34m\u001b[0m\u001b[0m\n\u001b[0m\u001b[1;32m   1328\u001b[0m     \u001b[0;32mexcept\u001b[0m \u001b[0merrors\u001b[0m\u001b[0;34m.\u001b[0m\u001b[0mOpError\u001b[0m \u001b[0;32mas\u001b[0m \u001b[0me\u001b[0m\u001b[0;34m:\u001b[0m\u001b[0;34m\u001b[0m\u001b[0m\n\u001b[1;32m   1329\u001b[0m       \u001b[0mmessage\u001b[0m \u001b[0;34m=\u001b[0m \u001b[0mcompat\u001b[0m\u001b[0;34m.\u001b[0m\u001b[0mas_text\u001b[0m\u001b[0;34m(\u001b[0m\u001b[0me\u001b[0m\u001b[0;34m.\u001b[0m\u001b[0mmessage\u001b[0m\u001b[0;34m)\u001b[0m\u001b[0;34m\u001b[0m\u001b[0m\n",
      "\u001b[0;32m/usr/local/lib/python3.6/site-packages/tensorflow/python/client/session.py\u001b[0m in \u001b[0;36m_run_fn\u001b[0;34m(feed_dict, fetch_list, target_list, options, run_metadata)\u001b[0m\n\u001b[1;32m   1310\u001b[0m       \u001b[0mself\u001b[0m\u001b[0;34m.\u001b[0m\u001b[0m_extend_graph\u001b[0m\u001b[0;34m(\u001b[0m\u001b[0;34m)\u001b[0m\u001b[0;34m\u001b[0m\u001b[0m\n\u001b[1;32m   1311\u001b[0m       return self._call_tf_sessionrun(\n\u001b[0;32m-> 1312\u001b[0;31m           options, feed_dict, fetch_list, target_list, run_metadata)\n\u001b[0m\u001b[1;32m   1313\u001b[0m \u001b[0;34m\u001b[0m\u001b[0m\n\u001b[1;32m   1314\u001b[0m     \u001b[0;32mdef\u001b[0m \u001b[0m_prun_fn\u001b[0m\u001b[0;34m(\u001b[0m\u001b[0mhandle\u001b[0m\u001b[0;34m,\u001b[0m \u001b[0mfeed_dict\u001b[0m\u001b[0;34m,\u001b[0m \u001b[0mfetch_list\u001b[0m\u001b[0;34m)\u001b[0m\u001b[0;34m:\u001b[0m\u001b[0;34m\u001b[0m\u001b[0m\n",
      "\u001b[0;32m/usr/local/lib/python3.6/site-packages/tensorflow/python/client/session.py\u001b[0m in \u001b[0;36m_call_tf_sessionrun\u001b[0;34m(self, options, feed_dict, fetch_list, target_list, run_metadata)\u001b[0m\n\u001b[1;32m   1418\u001b[0m         return tf_session.TF_Run(\n\u001b[1;32m   1419\u001b[0m             \u001b[0mself\u001b[0m\u001b[0;34m.\u001b[0m\u001b[0m_session\u001b[0m\u001b[0;34m,\u001b[0m \u001b[0moptions\u001b[0m\u001b[0;34m,\u001b[0m \u001b[0mfeed_dict\u001b[0m\u001b[0;34m,\u001b[0m \u001b[0mfetch_list\u001b[0m\u001b[0;34m,\u001b[0m \u001b[0mtarget_list\u001b[0m\u001b[0;34m,\u001b[0m\u001b[0;34m\u001b[0m\u001b[0m\n\u001b[0;32m-> 1420\u001b[0;31m             status, run_metadata)\n\u001b[0m\u001b[1;32m   1421\u001b[0m \u001b[0;34m\u001b[0m\u001b[0m\n\u001b[1;32m   1422\u001b[0m   \u001b[0;32mdef\u001b[0m \u001b[0m_call_tf_sessionprun\u001b[0m\u001b[0;34m(\u001b[0m\u001b[0mself\u001b[0m\u001b[0;34m,\u001b[0m \u001b[0mhandle\u001b[0m\u001b[0;34m,\u001b[0m \u001b[0mfeed_dict\u001b[0m\u001b[0;34m,\u001b[0m \u001b[0mfetch_list\u001b[0m\u001b[0;34m)\u001b[0m\u001b[0;34m:\u001b[0m\u001b[0;34m\u001b[0m\u001b[0m\n",
      "\u001b[0;31mKeyboardInterrupt\u001b[0m: "
     ]
    }
   ],
   "source": [
    "# Kaggle submission\n",
    "import json\n",
    "from tqdm import tnrange, tqdm_notebook\n",
    "from tqdm import tqdm\n",
    "\n",
    "json_data = json.load(open('kaggle/test.json'))\n",
    "test_dir = 'data/test/'\n",
    "\n",
    "ids = []\n",
    "predicted_labels = []\n",
    "\n",
    "for i in tqdm_notebook(json_data['images']):\n",
    "    pred = get_prediction(test_dir + str(i['image_id']) + '.jpg')\n",
    "    ids.append(i['image_id'])\n",
    "    predicted_labels.append(pred)"
   ]
  },
  {
   "cell_type": "code",
   "execution_count": 17,
   "metadata": {
    "collapsed": true
   },
   "outputs": [],
   "source": [
    "import pandas as pd\n",
    "import datetime\n",
    "\n",
    "my_submission = pd.DataFrame({'id': ids, 'predicted': predicted_labels})\n",
    "file_name = 'submission_' + str(datetime.datetime.now()) +'.csv'\n",
    "my_submission.to_csv(file_name, index=False)"
   ]
  },
  {
   "cell_type": "code",
   "execution_count": null,
   "metadata": {},
   "outputs": [],
   "source": []
  },
  {
   "cell_type": "code",
   "execution_count": null,
   "metadata": {
    "collapsed": true
   },
   "outputs": [],
   "source": []
  }
 ],
 "metadata": {
  "kernelspec": {
   "display_name": "Python 3",
   "language": "python",
   "name": "python3"
  },
  "language_info": {
   "codemirror_mode": {
    "name": "ipython",
    "version": 3
   },
   "file_extension": ".py",
   "mimetype": "text/x-python",
   "name": "python",
   "nbconvert_exporter": "python",
   "pygments_lexer": "ipython3",
   "version": "3.6.5"
  },
  "varInspector": {
   "cols": {
    "lenName": 16,
    "lenType": 16,
    "lenVar": 40
   },
   "kernels_config": {
    "python": {
     "delete_cmd_postfix": "",
     "delete_cmd_prefix": "del ",
     "library": "var_list.py",
     "varRefreshCmd": "print(var_dic_list())"
    },
    "r": {
     "delete_cmd_postfix": ") ",
     "delete_cmd_prefix": "rm(",
     "library": "var_list.r",
     "varRefreshCmd": "cat(var_dic_list()) "
    }
   },
   "types_to_exclude": [
    "module",
    "function",
    "builtin_function_or_method",
    "instance",
    "_Feature"
   ],
   "window_display": false
  }
 },
 "nbformat": 4,
 "nbformat_minor": 2
}
